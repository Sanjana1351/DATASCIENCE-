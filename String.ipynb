{
  "nbformat": 4,
  "nbformat_minor": 0,
  "metadata": {
    "colab": {
      "provenance": []
    },
    "kernelspec": {
      "name": "python3",
      "display_name": "Python 3"
    },
    "language_info": {
      "name": "python"
    }
  },
  "cells": [
    {
      "cell_type": "code",
      "source": [
        "\n",
        "'''Strings in Python are sequences of characters enclosed within single quotes (' '), double quotes (\" \"), or triple quotes (''' ''' or \"\"\" \"\"\"). They are immutable, meaning they cannot be changed after they are created.'''"
      ],
      "metadata": {
        "id": "D8hTuCK3-y3N"
      },
      "execution_count": null,
      "outputs": []
    },
    {
      "cell_type": "code",
      "source": [
        "#1. Creating Strings\n",
        "\n",
        "# Using single quotes\n",
        "string1 = 'Hello, World!'\n",
        "\n",
        "# Using double quotes\n",
        "string2 = \"Hello, World!\"\n",
        "\n",
        "# Using triple quotes (allows multi-line strings)\n",
        "string3 = '''This is a\n",
        "multi-line string.'''\n",
        "\n",
        "print(string1)\n",
        "print(string2)\n",
        "print(string3)"
      ],
      "metadata": {
        "colab": {
          "base_uri": "https://localhost:8080/"
        },
        "id": "AbI_2OrW-2m1",
        "outputId": "564abf3e-f582-43fb-abc8-02d9c444cebb"
      },
      "execution_count": 2,
      "outputs": [
        {
          "output_type": "stream",
          "name": "stdout",
          "text": [
            "Hello, World!\n",
            "Hello, World!\n",
            "This is a\n",
            "multi-line string.\n"
          ]
        }
      ]
    },
    {
      "cell_type": "code",
      "source": [
        "'''Accessing Characters in Strings\n",
        "You can access individual characters in a string using indexing.'''\n",
        "\n",
        "string = \"Python\"\n",
        "print(string[0])\n",
        "print(string[-1])"
      ],
      "metadata": {
        "colab": {
          "base_uri": "https://localhost:8080/"
        },
        "id": "NpTxq6cg-2pO",
        "outputId": "57aa0109-f3b8-4ff9-a050-0f7d924ccf17"
      },
      "execution_count": 3,
      "outputs": [
        {
          "output_type": "stream",
          "name": "stdout",
          "text": [
            "P\n",
            "n\n"
          ]
        }
      ]
    },
    {
      "cell_type": "code",
      "source": [
        "'''String Slicing\n",
        "Slicing allows you to get a substring.'''\n",
        "\n",
        "\n",
        "string = \"Python Programming\"\n",
        "print(string[0:6])  # as it start from 0 by end result we can only see 5 words , while writing a code you need give 1 forward in slicing\n",
        "print(string[7:])  # 7 it started from starting of the slicing asits astart slicing\n",
        "print(string[-11:-8])  #-11 it didnt count it started with upto -8"
      ],
      "metadata": {
        "colab": {
          "base_uri": "https://localhost:8080/"
        },
        "id": "188PlcwD-2sG",
        "outputId": "cd81a887-243a-4222-d9da-aba86bcfe414"
      },
      "execution_count": 4,
      "outputs": [
        {
          "output_type": "stream",
          "name": "stdout",
          "text": [
            "Python\n",
            "Programming\n",
            "Pro\n"
          ]
        }
      ]
    },
    {
      "cell_type": "code",
      "source": [
        "''' Common String Functions and Methods\n",
        "1. len() - Length of a String'''\n",
        "\n",
        "string = \"Python\"\n",
        "print(len(string))"
      ],
      "metadata": {
        "colab": {
          "base_uri": "https://localhost:8080/"
        },
        "id": "CT7Sy-WY-2uU",
        "outputId": "d5253d77-1a4c-4d23-a177-276f91248bfe"
      },
      "execution_count": 6,
      "outputs": [
        {
          "output_type": "stream",
          "name": "stdout",
          "text": [
            "6\n"
          ]
        }
      ]
    },
    {
      "cell_type": "code",
      "source": [
        "#2. str.lower() and str.upper() - Convert to Lowercase or Uppercase\n",
        "\n",
        "string = \"Python\"\n",
        "print(string.lower())\n",
        "print(string.upper())\n"
      ],
      "metadata": {
        "colab": {
          "base_uri": "https://localhost:8080/"
        },
        "id": "-pxrx1J--2wt",
        "outputId": "ee677a8d-a67f-48a4-8c0a-1be69155f196"
      },
      "execution_count": 7,
      "outputs": [
        {
          "output_type": "stream",
          "name": "stdout",
          "text": [
            "python\n",
            "PYTHON\n"
          ]
        }
      ]
    },
    {
      "cell_type": "code",
      "source": [
        "#3. str.strip() - Remove Leading and Trailing Whitespaces\n",
        "\n",
        "string = \"  Hello, World!  \"\n",
        "print(string.strip())"
      ],
      "metadata": {
        "colab": {
          "base_uri": "https://localhost:8080/"
        },
        "id": "fOT0z2_t-21O",
        "outputId": "0f8f34c7-8bd7-4d86-c777-eee86f7950b6"
      },
      "execution_count": 8,
      "outputs": [
        {
          "output_type": "stream",
          "name": "stdout",
          "text": [
            "Hello, World!\n"
          ]
        }
      ]
    },
    {
      "cell_type": "code",
      "source": [
        "#4. str.replace(old, new) - Replace Substring\n",
        "\n",
        "string = \"Hello, World!\"\n",
        "print(string.replace(\"World\", \"Python\"))"
      ],
      "metadata": {
        "colab": {
          "base_uri": "https://localhost:8080/"
        },
        "id": "SlW7WPG1-24M",
        "outputId": "1c56c89c-32ec-41d2-87cd-1115306502b5"
      },
      "execution_count": 9,
      "outputs": [
        {
          "output_type": "stream",
          "name": "stdout",
          "text": [
            "Hello, Python!\n"
          ]
        }
      ]
    },
    {
      "cell_type": "code",
      "source": [
        "#5. str.find(substring) - Find the Index of a Substring\n",
        "\n",
        "string = \"Hello, World!\"\n",
        "print(string.find(\"World\"))\n"
      ],
      "metadata": {
        "colab": {
          "base_uri": "https://localhost:8080/"
        },
        "id": "2hXLIdq0-26k",
        "outputId": "995fa84a-b774-481e-dcba-a6427d7a29ad"
      },
      "execution_count": 10,
      "outputs": [
        {
          "output_type": "stream",
          "name": "stdout",
          "text": [
            "7\n"
          ]
        }
      ]
    },
    {
      "cell_type": "code",
      "source": [
        "#6. str.split(separator) - Split a String\n",
        "\n",
        "string = \"Python,Java,C++\"\n",
        "print(string.split(','))"
      ],
      "metadata": {
        "colab": {
          "base_uri": "https://localhost:8080/"
        },
        "id": "QivZeAWmB_8l",
        "outputId": "61b451b4-a9c0-4324-bf7c-68996236a4b5"
      },
      "execution_count": 11,
      "outputs": [
        {
          "output_type": "stream",
          "name": "stdout",
          "text": [
            "['Python', 'Java', 'C++']\n"
          ]
        }
      ]
    },
    {
      "cell_type": "code",
      "source": [
        "#7str.join(iterable) - Join Elements of an Iterable\n",
        "\n",
        "list_of_languages = [\"Python\", \"Java\", \"C++\"]\n",
        "print(\", \".join(list_of_languages))\n"
      ],
      "metadata": {
        "colab": {
          "base_uri": "https://localhost:8080/"
        },
        "id": "NkvWZIFnCAC8",
        "outputId": "effa27cb-4b70-4d6c-c8ae-9865e8cfe226"
      },
      "execution_count": 12,
      "outputs": [
        {
          "output_type": "stream",
          "name": "stdout",
          "text": [
            "Python, Java, C++\n"
          ]
        }
      ]
    },
    {
      "cell_type": "code",
      "source": [
        "#8 str.startswith(prefix) and str.endswith(suffix)\n",
        "string = \"Hello, World!\"\n",
        "print(string.startswith(\"Hello\"))\n",
        "print(string.endswith(\"r\"))"
      ],
      "metadata": {
        "colab": {
          "base_uri": "https://localhost:8080/"
        },
        "id": "_pqj-ATaCAKC",
        "outputId": "d5bf70b7-506f-4d78-ffa6-3be669f480d1"
      },
      "execution_count": 14,
      "outputs": [
        {
          "output_type": "stream",
          "name": "stdout",
          "text": [
            "True\n",
            "False\n"
          ]
        }
      ]
    },
    {
      "cell_type": "code",
      "source": [
        "#9 str.isdigit() - Check if All Characters are Digits\n",
        "\n",
        "string = \"12345\"\n",
        "print(string.isdigit())"
      ],
      "metadata": {
        "colab": {
          "base_uri": "https://localhost:8080/"
        },
        "id": "zKSxEU4ECmyt",
        "outputId": "a6322f60-5281-4a9e-815b-54a13a681fd5"
      },
      "execution_count": 15,
      "outputs": [
        {
          "output_type": "stream",
          "name": "stdout",
          "text": [
            "True\n"
          ]
        }
      ]
    },
    {
      "cell_type": "code",
      "source": [
        "#10 str.isalpha() - Check if All Characters are Alphabets\n",
        "\n",
        "string = \"Hello\"\n",
        "print(string.isalpha())"
      ],
      "metadata": {
        "colab": {
          "base_uri": "https://localhost:8080/"
        },
        "id": "wcf5skqFCnQ0",
        "outputId": "a526d5f4-3777-450b-d671-8486ffb5f7b3"
      },
      "execution_count": 16,
      "outputs": [
        {
          "output_type": "stream",
          "name": "stdout",
          "text": [
            "True\n"
          ]
        }
      ]
    },
    {
      "cell_type": "code",
      "source": [
        "#11 str.title() - Convert to Title Case\n",
        "\n",
        "string = \"hello world\"\n",
        "print(string.title())"
      ],
      "metadata": {
        "colab": {
          "base_uri": "https://localhost:8080/"
        },
        "id": "91MuO1iyCnTT",
        "outputId": "c95a2b40-e9c1-48ba-cdd7-41279df12b1c"
      },
      "execution_count": 17,
      "outputs": [
        {
          "output_type": "stream",
          "name": "stdout",
          "text": [
            "Hello World\n"
          ]
        }
      ]
    },
    {
      "cell_type": "code",
      "source": [
        "#12 str.islower() and str.isupper() - Check Case of the String\n",
        "#These methods check if all characters are in lowercase or uppercase.\n",
        "\n",
        "\n",
        "string = \"python\"\n",
        "print(string.islower())\n",
        "\n",
        "string = \"PYThON\"\n",
        "print(string.isupper())"
      ],
      "metadata": {
        "colab": {
          "base_uri": "https://localhost:8080/"
        },
        "id": "W9Xb7yiWCnVk",
        "outputId": "7046c971-8f17-4fc7-f946-a4b6f81c75f6"
      },
      "execution_count": 19,
      "outputs": [
        {
          "output_type": "stream",
          "name": "stdout",
          "text": [
            "True\n",
            "False\n"
          ]
        }
      ]
    },
    {
      "cell_type": "code",
      "source": [
        "#13 str.capitalize() - Capitalize the First Letter Only\n",
        "#This method capitalizes only the first character of the string, making it a common way to capitalize sentences.\n",
        "\n",
        "string = \"hello world\"\n",
        "print(string.capitalize())"
      ],
      "metadata": {
        "colab": {
          "base_uri": "https://localhost:8080/"
        },
        "id": "G-gb6cEtCnXU",
        "outputId": "ae07b0f7-b7ee-4f49-ecda-1d48551e963d"
      },
      "execution_count": 20,
      "outputs": [
        {
          "output_type": "stream",
          "name": "stdout",
          "text": [
            "Hello world\n"
          ]
        }
      ]
    },
    {
      "cell_type": "code",
      "source": [
        "#str.swapcase() - Swap Case of Each Letter\n",
        "#This method swaps uppercase letters to lowercase and vice versa.\n",
        "string = \"Hello World\"\n",
        "print(string.swapcase())"
      ],
      "metadata": {
        "colab": {
          "base_uri": "https://localhost:8080/"
        },
        "id": "A-PBXX5rDgP2",
        "outputId": "d1aa2f52-2933-4396-95a3-21af9f916570"
      },
      "execution_count": 21,
      "outputs": [
        {
          "output_type": "stream",
          "name": "stdout",
          "text": [
            "hELLO wORLD\n"
          ]
        }
      ]
    },
    {
      "cell_type": "code",
      "source": [
        "#str.center(width) - Center the String\n",
        "#Centers the string within a specified width, adding padding if needed.\n",
        "\n",
        "string = \"Python\"\n",
        "print(string.center(10, '-'))\n"
      ],
      "metadata": {
        "colab": {
          "base_uri": "https://localhost:8080/"
        },
        "id": "1vZhrVrUDny-",
        "outputId": "f893ad1a-12eb-4604-e8c3-5d0c52ad12bf"
      },
      "execution_count": 22,
      "outputs": [
        {
          "output_type": "stream",
          "name": "stdout",
          "text": [
            "--Python--\n"
          ]
        }
      ]
    },
    {
      "cell_type": "code",
      "source": [
        "#str.zfill(width) - Pad with Leading Zeros\n",
        "#Pads the string on the left with zeros until it reaches the specified width. Commonly used for formatting numbers.\n",
        "\n",
        "string = \"42\"\n",
        "print(string.zfill(5))"
      ],
      "metadata": {
        "colab": {
          "base_uri": "https://localhost:8080/"
        },
        "id": "ArJSSjd5Dn6i",
        "outputId": "43e2acc8-ed6a-4800-e31a-e36c90fafe22"
      },
      "execution_count": 23,
      "outputs": [
        {
          "output_type": "stream",
          "name": "stdout",
          "text": [
            "00042\n"
          ]
        }
      ]
    },
    {
      "cell_type": "code",
      "source": [
        "#str.partition(separator) - Split into Three Parts\n",
        "#Splits a string into three parts: the part before the separator, the separator itself, and the part after the separator. This is useful when you only need the first instance of the separator.\n",
        "\n",
        "string = \"Hello, World!\"\n",
        "print(string.partition(\",\"))"
      ],
      "metadata": {
        "colab": {
          "base_uri": "https://localhost:8080/"
        },
        "id": "JwW1yNjWDn8z",
        "outputId": "7e585d4e-4521-4ddf-e217-5a9f59983650"
      },
      "execution_count": 24,
      "outputs": [
        {
          "output_type": "stream",
          "name": "stdout",
          "text": [
            "('Hello', ',', ' World!')\n"
          ]
        }
      ]
    },
    {
      "cell_type": "code",
      "source": [
        " #String Formatting\n",
        "#1. f-strings (Python 3.6+)\n",
        "\n",
        "name = \"Alice\"\n",
        "age = 30\n",
        "print(f\"My name is {name} and I am {age} years old.\")\n",
        "\n",
        "#2. format() Method\n",
        "\n",
        "name = \"Alice\"\n",
        "age = 30\n",
        "print(\"My name is {} and I am {} years old.\".format(name, age))"
      ],
      "metadata": {
        "colab": {
          "base_uri": "https://localhost:8080/"
        },
        "id": "GXVGMab4Dn_M",
        "outputId": "0733b8b6-1e60-4799-c931-4b9c9aecca1e"
      },
      "execution_count": 25,
      "outputs": [
        {
          "output_type": "stream",
          "name": "stdout",
          "text": [
            "My name is Alice and I am 30 years old.\n",
            "My name is Alice and I am 30 years old.\n"
          ]
        }
      ]
    },
    {
      "cell_type": "code",
      "source": [
        " '''Escape Characters\n",
        "Character\tDescription\n",
        "\\n\tNewline\n",
        "\\t\tTab\n",
        "\\\\\tBackslash\n",
        "\\'\tSingle quote\n",
        "\\\"\tDouble quote '''"
      ],
      "metadata": {
        "id": "Q5g8hYBmDoGN"
      },
      "execution_count": null,
      "outputs": []
    },
    {
      "cell_type": "code",
      "source": [
        "print(\"Hello\\nWorld!\")"
      ],
      "metadata": {
        "colab": {
          "base_uri": "https://localhost:8080/"
        },
        "id": "J8prMjuCDoIK",
        "outputId": "4880912e-7bbc-4034-96da-84d8a47bffc5"
      },
      "execution_count": 26,
      "outputs": [
        {
          "output_type": "stream",
          "name": "stdout",
          "text": [
            "Hello\n",
            "World!\n"
          ]
        }
      ]
    },
    {
      "cell_type": "code",
      "source": [
        "#Advanced String Manipulation\n",
        "#1. Reversing a String\n",
        "string = \"Python\"\n",
        "print(string[::-1])\n"
      ],
      "metadata": {
        "colab": {
          "base_uri": "https://localhost:8080/"
        },
        "id": "jWfuED8zDoKd",
        "outputId": "600eb894-ca8a-483f-a5c4-9f43eed7b4b2"
      },
      "execution_count": 28,
      "outputs": [
        {
          "output_type": "stream",
          "name": "stdout",
          "text": [
            "nohtyP\n"
          ]
        }
      ]
    },
    {
      "cell_type": "code",
      "source": [
        "#2. Count Occurrences of a Substring\n",
        "\n",
        "string = \"banana\"\n",
        "print(string.count(\"a\"))"
      ],
      "metadata": {
        "colab": {
          "base_uri": "https://localhost:8080/"
        },
        "id": "_iFwYbL_DoMu",
        "outputId": "2340e85d-0e53-4ae3-edac-8df23a8a8482"
      },
      "execution_count": 29,
      "outputs": [
        {
          "output_type": "stream",
          "name": "stdout",
          "text": [
            "3\n"
          ]
        }
      ]
    },
    {
      "cell_type": "code",
      "source": [
        "#3. Check for Alphanumeric Characters\n",
        "string = \"Hello123\"\n",
        "print(string.isalnum())\n"
      ],
      "metadata": {
        "colab": {
          "base_uri": "https://localhost:8080/"
        },
        "id": "qtx2emXkDoPG",
        "outputId": "7d3bec22-cb77-4deb-d5f4-ca1a5edffb33"
      },
      "execution_count": 30,
      "outputs": [
        {
          "output_type": "stream",
          "name": "stdout",
          "text": [
            "True\n"
          ]
        }
      ]
    },
    {
      "cell_type": "code",
      "source": [
        "#4. Find and Replace Substrings\n",
        "\n",
        "string = \"Hello, World! Hello!\"\n",
        "print(string.replace(\"Hello\", \"Hi\"))  # Output: Hi, World! Hi!\n"
      ],
      "metadata": {
        "colab": {
          "base_uri": "https://localhost:8080/"
        },
        "id": "bwlb_uNtDoRS",
        "outputId": "c574cd46-603b-4be3-a035-e54d2ef3238e"
      },
      "execution_count": 31,
      "outputs": [
        {
          "output_type": "stream",
          "name": "stdout",
          "text": [
            "Hi, World! Hi!\n"
          ]
        }
      ]
    },
    {
      "cell_type": "code",
      "source": [
        "#5. Capitalize the First Character\n",
        "\n",
        "string = \"python programming\"\n",
        "print(string.capitalize())"
      ],
      "metadata": {
        "colab": {
          "base_uri": "https://localhost:8080/"
        },
        "id": "xkpwnCBADoTj",
        "outputId": "28ba0c23-b43f-4b03-c3f9-c48a311e1073"
      },
      "execution_count": 33,
      "outputs": [
        {
          "output_type": "stream",
          "name": "stdout",
          "text": [
            "Python programming\n"
          ]
        }
      ]
    },
    {
      "cell_type": "code",
      "source": [
        "# Import necessary modules\n",
        "import re\n",
        "import json\n",
        "from string import Template\n",
        "from io import StringIO\n",
        "import unicodedata\n",
        "\n",
        "# Original string for examples\n",
        "text = \"hello WORLD 123\"\n",
        "text_number = \"42\"\n",
        "text_json = '{\"a\": 1}'\n",
        "text_multiline = '''Hello\n",
        "World'''\n",
        "template_text = Template(\"Hello, $name!\")\n",
        "unicode_text = \"straße\"\n",
        "\n",
        "# Convert to lowercase\n",
        "print(\"Lowercase:\", text.lower())\n",
        "\n",
        "# Convert to uppercase\n",
        "print(\"Uppercase:\", text.upper())\n",
        "\n",
        "# Title Case\n",
        "print(\"Title Case:\", text.title())\n",
        "\n",
        "# Capitalize\n",
        "print(\"Capitalized:\", text.capitalize())\n",
        "\n",
        "# Swap case\n",
        "print(\"Swap Case:\", text.swapcase())\n",
        "\n",
        "# Strip whitespace\n",
        "print(\"Stripped:\", text.strip())\n",
        "\n",
        "# Left and Right Trim\n",
        "print(\"Left Stripped:\", text.lstrip())\n",
        "print(\"Right Stripped:\", text.rstrip())\n",
        "\n",
        "# Replace substring\n",
        "print(\"Replace 'hello' with 'Hi':\", text.replace(\"hello\", \"Hi\"))\n",
        "\n",
        "# Find substring\n",
        "print(\"Find 'WORLD':\", text.find(\"WORLD\"))\n",
        "\n",
        "# Split string by delimiter\n",
        "print(\"Split by space:\", text.split())\n",
        "\n",
        "# Join strings\n",
        "joined_text = \",\".join(['a', 'b', 'c'])\n",
        "print(\"Joined text:\", joined_text)\n",
        "\n",
        "# Check start and end\n",
        "print(\"Starts with 'hello':\", text.startswith(\"hello\"))\n",
        "print(\"Ends with '123':\", text.endswith(\"123\"))\n",
        "\n",
        "# Digit Check\n",
        "print(\"Is digit:\", text_number.isdigit())\n",
        "\n",
        "# Alphabetic Check\n",
        "print(\"Is alphabetic:\", text.isalpha())\n",
        "\n",
        "# Character Count\n",
        "print(\"Count 'l':\", text.count(\"l\"))\n",
        "\n",
        "# Center Padding\n",
        "print(\"Center padded:\", text.center(20, \"-\"))\n",
        "\n",
        "# Pad with Zeros\n",
        "print(\"Zero-padded:\", text_number.zfill(5))\n",
        "\n",
        "# String Partition\n",
        "print(\"Partition 'WORLD':\", text.partition(\"WORLD\"))\n",
        "\n",
        "# Substring Check with 'in'\n",
        "print(\"Contains 'WORLD':\", \"WORLD\" in text)\n",
        "\n",
        "# Multiline string\n",
        "print(\"Multiline string:\", text_multiline)\n",
        "\n",
        "# Raw String\n",
        "print(\"Raw String:\", r\"C:\\path\\file.txt\")\n",
        "\n",
        "# f-strings\n",
        "name = \"Alice\"\n",
        "print(f\"Hello, {name}\")\n",
        "\n",
        "# .format() for string formatting\n",
        "print(\"Formatted string:\", \"Hello {}\".format(\"world\"))\n",
        "\n",
        "# Regular Expressions\n",
        "regex_example = re.findall(r\"\\d+\", text)\n",
        "print(\"Regex find digits:\", regex_example)\n",
        "\n",
        "# JSON Parsing\n",
        "parsed_json = json.loads(text_json)\n",
        "print(\"Parsed JSON:\", parsed_json)\n",
        "\n",
        "# Safe Template Substitution\n",
        "print(\"Template substitution:\", template_text.substitute(name=\"Alice\"))\n",
        "\n",
        "# Encoding and Decoding\n",
        "encoded = text.encode(\"utf-8\")\n",
        "print(\"Encoded string:\", encoded)\n",
        "print(\"Decoded string:\", encoded.decode(\"utf-8\"))\n",
        "\n",
        "# StringIO usage\n",
        "buf = StringIO()\n",
        "buf.write(\"Hello\\nWorld\")\n",
        "print(\"StringIO content:\", buf.getvalue())\n",
        "\n",
        "# Casefold for international text comparison\n",
        "print(\"Casefold comparison:\", unicode_text.casefold() == \"STRASSE\".casefold())\n",
        "\n",
        "# Reverse a String\n",
        "print(\"Reversed string:\", text[::-1])\n",
        "\n",
        "# Sort characters in a string\n",
        "print(\"Sorted characters:\", ''.join(sorted(\"banana\")))\n",
        "\n",
        "# Formatted Number with f-strings\n",
        "value = 1234.5678\n",
        "print(\"Formatted number:\", f\"{value:,.2f}\")\n",
        "\n",
        "# Debugging with f-strings\n",
        "x = 42\n",
        "print(f\"Debugging example: {x = }\")\n",
        "\n",
        "# Unicode normalization\n",
        "normalized = unicodedata.normalize(\"NFKD\", \"Café\")\n",
        "print(\"Normalized Unicode:\", normalized)\n",
        "\n",
        "# Case Insensitive Check with casefold()\n",
        "print(\"Case Insensitive Check:\", unicode_text.casefold() == \"STRASSE\".casefold())\n"
      ],
      "metadata": {
        "colab": {
          "base_uri": "https://localhost:8080/"
        },
        "id": "BS707cJtG5kc",
        "outputId": "8d98336f-6ecc-4dd9-f659-d311721324f7"
      },
      "execution_count": 34,
      "outputs": [
        {
          "output_type": "stream",
          "name": "stdout",
          "text": [
            "Lowercase: hello world 123\n",
            "Uppercase: HELLO WORLD 123\n",
            "Title Case: Hello World 123\n",
            "Capitalized: Hello world 123\n",
            "Swap Case: HELLO world 123\n",
            "Stripped: hello WORLD 123\n",
            "Left Stripped: hello WORLD 123\n",
            "Right Stripped: hello WORLD 123\n",
            "Replace 'hello' with 'Hi': Hi WORLD 123\n",
            "Find 'WORLD': 6\n",
            "Split by space: ['hello', 'WORLD', '123']\n",
            "Joined text: a,b,c\n",
            "Starts with 'hello': True\n",
            "Ends with '123': True\n",
            "Is digit: True\n",
            "Is alphabetic: False\n",
            "Count 'l': 2\n",
            "Center padded: --hello WORLD 123---\n",
            "Zero-padded: 00042\n",
            "Partition 'WORLD': ('hello ', 'WORLD', ' 123')\n",
            "Contains 'WORLD': True\n",
            "Multiline string: Hello\n",
            "World\n",
            "Raw String: C:\\path\\file.txt\n",
            "Hello, Alice\n",
            "Formatted string: Hello world\n",
            "Regex find digits: ['123']\n",
            "Parsed JSON: {'a': 1}\n",
            "Template substitution: Hello, Alice!\n",
            "Encoded string: b'hello WORLD 123'\n",
            "Decoded string: hello WORLD 123\n",
            "StringIO content: Hello\n",
            "World\n",
            "Casefold comparison: True\n",
            "Reversed string: 321 DLROW olleh\n",
            "Sorted characters: aaabnn\n",
            "Formatted number: 1,234.57\n",
            "Debugging example: x = 42\n",
            "Normalized Unicode: Café\n",
            "Case Insensitive Check: True\n"
          ]
        }
      ]
    },
    {
      "cell_type": "code",
      "source": [],
      "metadata": {
        "id": "TjZ8oVuvG5tL"
      },
      "execution_count": null,
      "outputs": []
    },
    {
      "cell_type": "code",
      "source": [],
      "metadata": {
        "id": "oZkd4C-uG5vi"
      },
      "execution_count": null,
      "outputs": []
    },
    {
      "cell_type": "code",
      "source": [],
      "metadata": {
        "id": "58uiVRvKG50c"
      },
      "execution_count": null,
      "outputs": []
    },
    {
      "cell_type": "code",
      "source": [],
      "metadata": {
        "id": "FIokRpmWG53C"
      },
      "execution_count": null,
      "outputs": []
    },
    {
      "cell_type": "code",
      "source": [],
      "metadata": {
        "id": "uCtzWy2PG57L"
      },
      "execution_count": null,
      "outputs": []
    }
  ]
}